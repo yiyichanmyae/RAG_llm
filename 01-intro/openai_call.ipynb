{
 "cells": [
  {
   "cell_type": "code",
   "execution_count": 3,
   "id": "69b1ba6f-df83-4672-b2b7-bae463f0e64c",
   "metadata": {},
   "outputs": [],
   "source": [
    "import openai\n",
    "from openai import OpenAI"
   ]
  },
  {
   "cell_type": "code",
   "execution_count": 4,
   "id": "f151f8f3-3d37-4e01-82b5-2abcb3b02acd",
   "metadata": {},
   "outputs": [],
   "source": [
    "client = OpenAI()"
   ]
  },
  {
   "cell_type": "code",
   "execution_count": 6,
   "id": "3a94a47a-b01d-421a-b7d5-a374cd252b48",
   "metadata": {},
   "outputs": [],
   "source": [
    "# import os\n",
    "# os.environ"
   ]
  },
  {
   "cell_type": "code",
   "execution_count": 9,
   "id": "ae94d41f-bbf5-4a10-bce4-4d817a7a286b",
   "metadata": {},
   "outputs": [],
   "source": [
    "response = client.chat.completions.create(\n",
    "    model='gpt-4o',\n",
    "    messages=[{\"role\":\"user\", \"content\":\"is being 30 too old to start a new carreer passionately? reponse in less than 20 words.\"}]\n",
    ")"
   ]
  },
  {
   "cell_type": "code",
   "execution_count": 16,
   "id": "17d3e5d1-642c-475c-b43d-c866536b9479",
   "metadata": {},
   "outputs": [
    {
     "data": {
      "text/plain": [
       "'No, 30 is not too old to start a new career passionately. Many succeed starting even later.'"
      ]
     },
     "execution_count": 16,
     "metadata": {},
     "output_type": "execute_result"
    }
   ],
   "source": [
    "response.choices[0].message.content"
   ]
  },
  {
   "cell_type": "code",
   "execution_count": null,
   "id": "52829b88-2ac1-44a5-a108-40162e69275c",
   "metadata": {},
   "outputs": [],
   "source": []
  }
 ],
 "metadata": {
  "kernelspec": {
   "display_name": "Python 3 (ipykernel)",
   "language": "python",
   "name": "python3"
  },
  "language_info": {
   "codemirror_mode": {
    "name": "ipython",
    "version": 3
   },
   "file_extension": ".py",
   "mimetype": "text/x-python",
   "name": "python",
   "nbconvert_exporter": "python",
   "pygments_lexer": "ipython3",
   "version": "3.12.1"
  }
 },
 "nbformat": 4,
 "nbformat_minor": 5
}
